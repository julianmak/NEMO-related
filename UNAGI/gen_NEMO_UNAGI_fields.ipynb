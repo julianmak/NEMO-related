{
 "cells": [
  {
   "cell_type": "code",
   "execution_count": 1,
   "metadata": {},
   "outputs": [],
   "source": [
    "# 30 Jan 2019\n",
    "# generates the NEMO horizontal grid and bathymetry file\n",
    "\n",
    "import numpy as np\n",
    "import matplotlib.pyplot as plt\n",
    "from netCDF4 import Dataset\n",
    "from copy import deepcopy"
   ]
  },
  {
   "cell_type": "code",
   "execution_count": 2,
   "metadata": {
    "code_folding": [
     0
    ]
   },
   "outputs": [],
   "source": [
    "# create the output data class\n",
    "\n",
    "def gen_bathy_meter(jpiglo, jpjglo, e1, e2, bathy, config, filename):\n",
    "\n",
    "    # open a new netCDF file for writing.\n",
    "    ncfile = Dataset(filename, \"w\", format = \"NETCDF4\") \n",
    "    ncfile.title = \"homebrew bathymetry file for %s\" % config\n",
    "\n",
    "    # create the dimensions.\n",
    "    ncfile.createDimension(\"x\", jpiglo)\n",
    "    ncfile.createDimension(\"y\", jpjglo)\n",
    "    ncfile.createDimension(\"t\", None)\n",
    "\n",
    "    # first argument is name of variable, \n",
    "    # second is datatype,\n",
    "    # third is a tuple with the names of dimensions.\n",
    "\n",
    "    lon_netcdf = ncfile.createVariable(\"nav_lon\", np.dtype(\"float32\").char, (\"x\"), fill_value = False)\n",
    "    lon_netcdf[:] = e1\n",
    "    lon_netcdf.units = \"m\"\n",
    "    lon_netcdf.long_name = \"x\"\n",
    "\n",
    "    lat_netcdf = ncfile.createVariable(\"nav_lat\", np.dtype(\"float32\").char, (\"y\"), fill_value = False)\n",
    "    lat_netcdf[:] = e2\n",
    "    lat_netcdf.units = \"m\"\n",
    "    lat_netcdf.long_name = \"y\"\n",
    "\n",
    "    time_netcdf = ncfile.createVariable(\"time_counter\", np.dtype(\"float32\").char, (\"t\"), fill_value = False)\n",
    "    time_netcdf[:] = 0.0\n",
    "    time_netcdf.units = \"s\"\n",
    "\n",
    "    bathy_netcdf = ncfile.createVariable(\"Bathymetry\", np.dtype(\"float64\").char, (\"t\", \"y\", \"x\"), fill_value = False)\n",
    "    bathy_netcdf[:] = bathy\n",
    "    bathy_netcdf.units = \"m\"\n",
    "\n",
    "    # close the file.\n",
    "    ncfile.close()\n",
    "\n",
    "    print(\"*** SUCCESS writing example file %s\" % filename)\n",
    "    \n",
    "def gen_forcing(jpiglo, jpjglo, lonT, latT, utau, vtau, qtot, qsr, emp, filename):\n",
    "\n",
    "    # open a new netCDF file for writing.\n",
    "    ncfile = Dataset(filename , \"w\", format = \"NETCDF4\") \n",
    "    ncfile.title = \"homebrew forcing file for modEEL\"\n",
    "\n",
    "    # create the dimensions.\n",
    "    ncfile.createDimension(\"x\", jpiglo)\n",
    "    ncfile.createDimension(\"y\", jpjglo)\n",
    "    ncfile.createDimension(\"t\", None)\n",
    "\n",
    "    # first argument is name of variable, \n",
    "    # second is datatype,\n",
    "    # third is a tuple with the names of dimensions.\n",
    "\n",
    "    lon_netcdf = ncfile.createVariable(\"nav_lon\", np.dtype(\"float32\").char, (\"y\", \"x\"), fill_value = False)\n",
    "    lon_netcdf[:] = lonT\n",
    "    lon_netcdf.units = \"m\"\n",
    "    lon_netcdf.long_name = \"x\"\n",
    "\n",
    "    lat_netcdf = ncfile.createVariable(\"nav_lat\", np.dtype(\"float32\").char, (\"y\", \"x\"), fill_value = False)\n",
    "    lat_netcdf[:] = latT\n",
    "    lat_netcdf.units = \"m\"\n",
    "    lat_netcdf.long_name = \"y\"\n",
    "\n",
    "    utau_netcdf = ncfile.createVariable(\"utau\", np.dtype(\"float64\").char, (\"t\", \"y\", \"x\"), fill_value = False)\n",
    "    utau_netcdf[:] = utau\n",
    "    utau_netcdf.units = \"N m-2\"\n",
    "\n",
    "    vtau_netcdf = ncfile.createVariable(\"vtau\", np.dtype(\"float64\").char, (\"t\", \"y\", \"x\"), fill_value = False)\n",
    "    vtau_netcdf[:] = vtau\n",
    "    vtau_netcdf.units = \"N m-2\"\n",
    "\n",
    "    qtot_netcdf = ncfile.createVariable(\"qtot\", np.dtype(\"float64\").char, (\"t\", \"y\", \"x\"), fill_value = False)\n",
    "    qtot_netcdf[:] = qtot\n",
    "    qtot_netcdf.units = \"W m-2\"\n",
    "\n",
    "    qsr_netcdf = ncfile.createVariable(\"qsr\", np.dtype(\"float64\").char, (\"t\", \"y\", \"x\"), fill_value = False)\n",
    "    qsr_netcdf[:] = qsr\n",
    "    qsr_netcdf.units = \"W m-2\"\n",
    "\n",
    "    emp_netcdf = ncfile.createVariable(\"emp\", np.dtype(\"float64\").char, (\"t\", \"y\", \"x\"), fill_value = False)\n",
    "    emp_netcdf[:] = emp\n",
    "    emp_netcdf.units = \"m s-1\"\n",
    "\n",
    "    # close the file.\n",
    "    ncfile.close()\n",
    "\n",
    "    print(\"*** SUCCESS writing example file %s!\" % filename)\n",
    "    \n",
    "def gen_istate(x, y, z, toce, soce, sst, sss, filename):\n",
    "\n",
    "    # open a new netCDF file for writing.\n",
    "    ncfile = Dataset(filename, \"w\", format = \"NETCDF4\") \n",
    "    ncfile.title = \"homebrew initial state file for modEEL\"\n",
    "\n",
    "    # create the dimensions.\n",
    "    ncfile.createDimension(\"x\", jpiglo)\n",
    "    ncfile.createDimension(\"y\", jpjglo)\n",
    "    ncfile.createDimension(\"z\", jpkglo)\n",
    "    ncfile.createDimension(\"t\", None)\n",
    "\n",
    "    # first argument is name of variable, \n",
    "    # second is datatype,\n",
    "    # third is a tuple with the names of dimensions.\n",
    "\n",
    "    lon_netcdf = ncfile.createVariable(\"nav_lon\", np.dtype(\"float32\").char, (\"y\", \"x\"), fill_value = False)\n",
    "    lon_netcdf[:] = x\n",
    "    lon_netcdf.units = \"m\"\n",
    "    lon_netcdf.long_name = \"x\"\n",
    "\n",
    "    lat_netcdf = ncfile.createVariable(\"nav_lat\", np.dtype(\"float32\").char, (\"y\", \"x\"), fill_value = False)\n",
    "    lat_netcdf[:] = y\n",
    "    lat_netcdf.units = \"m\"\n",
    "    lat_netcdf.long_name = \"y\"\n",
    "\n",
    "    lat_netcdf = ncfile.createVariable(\"nav_lev\", np.dtype(\"float32\").char, (\"z\"), fill_value = False)\n",
    "    lat_netcdf[:] = z\n",
    "    lat_netcdf.units = \"m\"\n",
    "    lat_netcdf.long_name = \"z\"\n",
    "\n",
    "    toce_netcdf = ncfile.createVariable(\"toce\", np.dtype(\"float64\").char, (\"t\", \"z\", \"y\", \"x\"), fill_value = False)\n",
    "    toce_netcdf[:] = toce\n",
    "    toce_netcdf.units = \"C\"\n",
    "\n",
    "    soce_netcdf = ncfile.createVariable(\"soce\", np.dtype(\"float64\").char, (\"t\", \"z\", \"y\", \"x\"), fill_value = False)\n",
    "    soce_netcdf[:] = soce\n",
    "    soce_netcdf.units = \"g kg-1\"\n",
    "\n",
    "    sst_netcdf = ncfile.createVariable(\"sst\", np.dtype(\"float64\").char, (\"t\", \"y\", \"x\"), fill_value = False)\n",
    "    sst_netcdf[:] = sst\n",
    "    sst_netcdf.units = \"C\"\n",
    "\n",
    "    sss_netcdf = ncfile.createVariable(\"sss\", np.dtype(\"float64\").char, (\"t\", \"y\", \"x\"), fill_value = False)\n",
    "    sss_netcdf[:] = sss\n",
    "    sss_netcdf.units = \"g kg-1\"\n",
    "\n",
    "    # close the file.\n",
    "    ncfile.close()\n",
    "\n",
    "    print(\"*** SUCCESS writing example file %s!\" % filename)"
   ]
  },
  {
   "cell_type": "code",
   "execution_count": 86,
   "metadata": {},
   "outputs": [
    {
     "name": "stdout",
     "output_type": "stream",
     "text": [
      "*** SUCCESS writing example file bathy_meter_EEL.nc\n"
     ]
    },
    {
     "data": {
      "image/png": "[encoded data removed]",
      "text/plain": [
       "<matplotlib.figure.Figure at 0x7f1d6aa249b0>"
      ]
     },
     "metadata": {},
     "output_type": "display_data"
    }
   ],
   "source": [
    "# EEL configuration, flat bottom + mound\n",
    "\n",
    "jpiglo = 83\n",
    "jpjglo = 242\n",
    "\n",
    "reso_m = 2000.0\n",
    "e1 = reso_m * np.arange(0, jpiglo)\n",
    "e2 = reso_m * np.arange(0, jpjglo)\n",
    "Lx, Ly = e1[-1], e2[-1]\n",
    "\n",
    "# EEL has 4000m depth, also put two walls in\n",
    "bathy = 4000.0 * np.ones((1, jpjglo, jpiglo))\n",
    "\n",
    "xx, yy = np.meshgrid(e1, e2)\n",
    "mound = 1500.0 * np.exp(   -(  ( (yy - Ly / 2.0) ** 2 + (xx - Lx / 2.0) ** 2 ) / 35e3 ** 2  ))\n",
    "plt.subplot(1, 2, 1)\n",
    "plt.contourf(xx, yy, mound)\n",
    "plt.colorbar()\n",
    "plt.axis(\"equal\")\n",
    "plt.tight_layout()\n",
    "\n",
    "bathy[0, :, :] -= mound\n",
    "plt.subplot(1, 2, 2)\n",
    "plt.contourf(xx, yy, bathy[0, :, :])\n",
    "plt.colorbar()\n",
    "plt.axis(\"equal\")\n",
    "plt.tight_layout()\n",
    "\n",
    "bathy[0,  0, :] = 0.0\n",
    "bathy[0, -1, :] = 0.0\n",
    "\n",
    "gen_bathy_meter(jpiglo, jpjglo, e1, e2, bathy, \"EEL\", \"bathy_meter_EEL.nc\")"
   ]
  },
  {
   "cell_type": "code",
   "execution_count": 11,
   "metadata": {
    "code_folding": []
   },
   "outputs": [
    {
     "name": "stdout",
     "output_type": "stream",
     "text": [
      "*** SUCCESS writing example file bathy_meter_UNAGI_R050.nc\n"
     ]
    },
    {
     "data": {
      "image/png": "[encoded data removed]",
      "text/plain": [
       "<matplotlib.figure.Figure at 0x7fba2c5c39e8>"
      ]
     },
     "metadata": {},
     "output_type": "display_data"
    }
   ],
   "source": [
    "# UNAGI configuration, based on SO channel of Dave Munday\n",
    "# 9000km long, 2400km wide, 3000m deep\n",
    "\n",
    "# relevant numbers\n",
    "# res  [nx short]  nx    ny      nz\n",
    "# 100   40         90    24 + 2  30 + 1\n",
    "#  50   80        180    48 + 2  30 + 1\n",
    "#  25  160        360    96 + 2  30 + 1\n",
    "#  15             600   160 + 2  30 + 1\n",
    "#  10  400        900   240 + 2  30 + 1\n",
    "\n",
    "bathy_filename = \"bathy_meter_UNAGI_R050.nc\"\n",
    "\n",
    "jpiglo = 180\n",
    "jpjglo = 48 + 2 # add to grid points on\n",
    "jpkglo = 30 + 1 # add the bottom level in\n",
    "reso_m = 50.0e3\n",
    "e1 = reso_m * np.arange(0, jpiglo)\n",
    "e2 = reso_m * np.arange(0, jpjglo)\n",
    "Lx, Ly = e1[-1], e2[-1]\n",
    "\n",
    "# UNAGI has 3000m depth, also put two walls in\n",
    "oce_depth = 3000.0\n",
    "bathy = oce_depth * np.ones((1, jpjglo, jpiglo))\n",
    "\n",
    "l_ridge = True\n",
    "ridge_H = 1500.0\n",
    "ridge_L = 500.0e3 # half width of ridge\n",
    "\n",
    "if l_ridge:\n",
    "    ridge_x1d = np.zeros(jpiglo)\n",
    "    for ji in range(jpiglo):\n",
    "        if (e1[ji] > -ridge_L - 100.0e3 + Lx / 2.0) & (e1[ji] < -100.0e3 + Lx / 2.0):\n",
    "            ridge_x1d[ji] = 0.5 * ridge_H * (1.0 + np.cos(np.pi * (e1[ji] + Lx / 2.0 + 100.0e3) / ridge_L))\n",
    "        elif (e1[ji] > 100.0e3 + Lx / 2.0) & (e1[ji] < ridge_L + 100.0e3 + Lx / 2.0):\n",
    "            ridge_x1d[ji] = 0.5 * ridge_H * (1.0 + np.cos(np.pi * (e1[ji] + Lx / 2.0 - 100.0e3) / ridge_L))\n",
    "        elif (e1[ji] >= -100.0e3 + Lx / 2.0) & (e1[ji] <= 100.0e3 + Lx / 2.0):\n",
    "            ridge_x1d[ji] = ridge_H\n",
    "else:\n",
    "    ridge_x1d = oce_depth * np.zeros(jpiglo)\n",
    "\n",
    "bathy[0, :, :] -= ridge_x1d[np.newaxis, :]\n",
    "bathy[0,  0, :] = 0.0\n",
    "bathy[0, -1, :] = 0.0\n",
    "    \n",
    "plt.contourf(e1 / 1e3, e2 / 1e3, bathy[0, :, :])\n",
    "plt.colorbar()\n",
    "\n",
    "gen_bathy_meter(jpiglo, jpjglo, e1, e2, bathy, \"UNAGI\", bathy_filename)"
   ]
  },
  {
   "cell_type": "code",
   "execution_count": 37,
   "metadata": {},
   "outputs": [
    {
     "data": {
      "image/png": "[encoded data removed]",
      "text/plain": [
       "<matplotlib.figure.Figure at 0x7fba2c22e860>"
      ]
     },
     "metadata": {},
     "output_type": "display_data"
    }
   ],
   "source": [
    "# use the generated bathy_meter.nc in DOMAINcfg to generate a domaincfg file\n",
    "# the use that domaincfg file to generate the initial state and forcing files\n",
    "\n",
    "# no meridional wind here so just put everything on T points\n",
    "filename = \"domcfg_UNAGI_R015.nc\"\n",
    "data = Dataset(filename)\n",
    "jpiglo = data.variables[\"jpiglo\"][:]\n",
    "jpjglo = data.variables[\"jpjglo\"][:]\n",
    "jpkglo = data.variables[\"jpkglo\"][:]\n",
    "lonV   = data.variables[\"glamv\"][0, :, :]\n",
    "latV   = data.variables[\"gphiv\"][0, :, :]\n",
    "lonT   = data.variables[\"glamt\"][0, :, :]\n",
    "latT   = data.variables[\"gphit\"][0, :, :]\n",
    "e1t    = data.variables[\"e1t\"][0, 0, 0]\n",
    "z      = data.variables[\"nav_lev\"][:]\n",
    "data.close()\n",
    "\n",
    "# have a sinusoidally varying wind but zero everything else\n",
    "Ly     = 2400.0e3\n",
    "Ly_mid = (Ly - e1t) / 2.0 # take into account the slight offset of the T/Vgrid\n",
    "Lz     = 3000\n",
    "\n",
    "tau0 = 0.2 * 1.0\n",
    "utau = np.zeros((1, jpjglo, jpiglo))\n",
    "utau[0, :, :] = tau0 * 0.5 * ( 1.0 + np.cos(2.0 * np.pi * (latT * 1.0e3 - Ly_mid) / Ly) )\n",
    "utau[0, 0, :] = 0.0\n",
    "utau[0, -1, :] = 0.0\n",
    "\n",
    "vtau = np.zeros((1, jpjglo, jpiglo))\n",
    "qtot = np.zeros((1, jpjglo, jpiglo))\n",
    "qsr  = np.zeros((1, jpjglo, jpiglo))\n",
    "emp  = np.zeros((1, jpjglo, jpiglo))\n",
    "\n",
    "plt.plot(utau[0, :, 0], latT, 'rx-')\n",
    "plt.grid()\n",
    "\n",
    "gen_forcing(jpiglo, jpjglo, lonT, latT, utau, vtau, qtot, qsr, emp, filename.replace(\"domcfg\", \"forcing_tau1x\"))"
   ]
  },
  {
   "cell_type": "code",
   "execution_count": 38,
   "metadata": {},
   "outputs": [
    {
     "name": "stdout",
     "output_type": "stream",
     "text": [
      "*** SUCCESS writing example file state_UNAGI_R015.nc!\n"
     ]
    },
    {
     "data": {
      "image/png": "[encoded data removed]",
      "text/plain": [
       "<matplotlib.figure.Figure at 0x7fba2c262438>"
      ]
     },
     "metadata": {},
     "output_type": "display_data"
    }
   ],
   "source": [
    "# Choose the amplitude of the temperature variations\n",
    "dtheta = 15.0\n",
    "\n",
    "# Choose the e-folding scale for the stratification.\n",
    "z0 = 1000.0\n",
    "\n",
    "# Generate the idealised temperature stratification, used as both an initial\n",
    "# condition and for the restoring temperature in the sponge regions.\n",
    "\n",
    "toce = np.zeros((1, jpkglo, jpjglo, jpiglo))\n",
    "soce = 35.0 * np.ones((1, jpkglo, jpjglo, jpiglo))\n",
    "\n",
    "sss = deepcopy(soce[:, 0, :, :])\n",
    "\n",
    "yy, zz = np.meshgrid(latT[:, 0], -z)\n",
    "yy *= 1.0e3\n",
    "\n",
    "# Linear gradient at surface with exponential decay at depth and 0oC at\n",
    "# the southern boundary (similar to Abernathey et al., 2011)\n",
    "for ji in range(jpiglo):\n",
    "    toce[0, :, :, ji] = (dtheta * (  ( yy / Ly )\n",
    "                                   * ( np.exp( zz / z0) - np.exp(-Lz / z0) ) \n",
    "                                   / ( 1.0 - np.exp( -Lz / z0 ) )\n",
    "                                   ) \n",
    "                        )\n",
    "\n",
    "# because of the grid there is some offset, add it back on\n",
    "toce -= toce[0, 0, 0, 0]\n",
    "\n",
    "# add some noise\n",
    "toce += np.random.normal(0, 0.05, (1, jpkglo, jpjglo, jpiglo))\n",
    "\n",
    "# % Make sure there is no water colder than 0.5oC.\n",
    "toce[toce < 0.25] = 0.25\n",
    "    \n",
    "# Pick out the surface temperature for the restoring condition.\n",
    "sst = deepcopy(toce[:, 0, :, :])\n",
    "\n",
    "# note the first and last y point is going to be set to masked out\n",
    "plt.contourf(yy / 1.0e3, zz, toce[0, :, :, 1], np.arange(0, 16, 1), cmap = \"RdBu_r\")\n",
    "lines = plt.contour(yy / 1.0e3, zz, toce[0, :, :, 1], np.arange(2, 16, 2), colors = \"w\")\n",
    "plt.clabel(lines, fmt = r\"$%i\\ {}^\\circ \\mathrm{C}$\", colors = 'w')\n",
    "\n",
    "gen_istate(lonT, latT, z, toce, soce, sst, sss, filename.replace(\"domcfg\", \"state\"))"
   ]
  },
  {
   "cell_type": "code",
   "execution_count": 252,
   "metadata": {},
   "outputs": [
    {
     "name": "stdout",
     "output_type": "stream",
     "text": [
      "MITgcm value = 1032.412500\n",
      "MITgcm value = 1035.517500\n",
      "NEMO  value = 1024.974000\n",
      "NEMO  value = 1028.052000\n"
     ]
    }
   ],
   "source": [
    "# MITgcm\n",
    "rho0 = 1035\n",
    "alpT = 2.0e-4\n",
    "Tref = 2.5\n",
    "print(\"MITgcm value = %.6f\" % (rho0 * (1 - alpT * (15 - Tref))))\n",
    "print(\"MITgcm value = %.6f\" % (rho0 * (1 - alpT * (0  - Tref))))\n",
    "\n",
    "# NEMO\n",
    "rho0 = 1026\n",
    "alpT = 2.0e-4\n",
    "Tref = 10\n",
    "print(\"NEMO  value = %.6f\" % (rho0 * (1 - alpT * (15 - Tref))))\n",
    "print(\"NEMO  value = %.6f\" % (rho0 * (1 - alpT * (0  - Tref))))"
   ]
  },
  {
   "cell_type": "code",
   "execution_count": 6,
   "metadata": {},
   "outputs": [
    {
     "data": {
      "image/png": "[encoded data removed]",
      "text/plain": [
       "<matplotlib.figure.Figure at 0x7fce07c9be10>"
      ]
     },
     "metadata": {},
     "output_type": "display_data"
    }
   ],
   "source": [
    "# testing code for generating diffkr\n",
    "\n",
    "filename = \"UNAGI_R100_domcfg.nc\"\n",
    "data = Dataset(filename)\n",
    "jpiglo = data.variables[\"jpiglo\"][:]\n",
    "jpjglo = data.variables[\"jpjglo\"][:]\n",
    "jpkglo = data.variables[\"jpkglo\"][:]\n",
    "data.close()\n",
    "reso_m = 100.0e3 # 100 km resolution\n",
    "e2 = reso_m * np.arange(0, jpjglo)\n",
    "\n",
    "avt0 = 1.0e-5\n",
    "avtf = 5.0e-3\n",
    "L_sponge = 300.0e3\n",
    "Ly   = 2400.0e3 # 2400km is where the wall SHOULD be at\n",
    "\n",
    "diffkr = avt0 + (0.5 * avtf * ( 1 + np.cos( np.pi * (e2 - e2[-2]) / L_sponge ) )\n",
    "               - 0.5 * avt0 * ( 1 + np.cos( np.pi * (e2 - e2[-2]) / L_sponge ) )\n",
    "                )\n",
    "diffkr = np.where(e2 > 2000.0e3, diffkr, avt0)\n",
    "\n",
    "amp_factor = 1 + (0.5 * 500 * ( 1 + np.cos( np.pi * (e2 - e2[-2]) / L_sponge ) )\n",
    "               -  0.5       * ( 1 + np.cos( np.pi * (e2 - e2[-2]) / L_sponge ) )\n",
    "                )\n",
    "amp_factor = np.where(e2 > 2000.e3, amp_factor, 1.0)\n",
    "\n",
    "plt.plot(diffkr, e2 / 1e3, 'bx-')\n",
    "plt.plot(amp_factor * avt0, e2 / 1e3, 'ro-')\n",
    "plt.plot([0, avtf], [2000, 2000], 'k--')\n",
    "plt.grid()"
   ]
  },
  {
   "cell_type": "code",
   "execution_count": 7,
   "metadata": {},
   "outputs": [
    {
     "data": {
      "text/plain": [
       "array([ -10,    0,   10,   20,   30,   40,   50,   60,   70,   80,   90,\n",
       "        100,  110,  120,  130,  140,  150,  160,  170,  180,  190,  200,\n",
       "        210,  220,  230,  240,  250,  260,  270,  280,  290,  300,  310,\n",
       "        320,  330,  340,  350,  360,  370,  380,  390,  400,  410,  420,\n",
       "        430,  440,  450,  460,  470,  480,  490,  500,  510,  520,  530,\n",
       "        540,  550,  560,  570,  580,  590,  600,  610,  620,  630,  640,\n",
       "        650,  660,  670,  680,  690,  700,  710,  720,  730,  740,  750,\n",
       "        760,  770,  780,  790,  800,  810,  820,  830,  840,  850,  860,\n",
       "        870,  880,  890,  900,  910,  920,  930,  940,  950,  960,  970,\n",
       "        980,  990, 1000, 1010, 1020, 1030, 1040, 1050, 1060, 1070, 1080,\n",
       "       1090, 1100, 1110, 1120, 1130, 1140, 1150, 1160, 1170, 1180, 1190,\n",
       "       1200, 1210, 1220, 1230, 1240, 1250, 1260, 1270, 1280, 1290, 1300,\n",
       "       1310, 1320, 1330, 1340, 1350, 1360, 1370, 1380, 1390, 1400, 1410,\n",
       "       1420, 1430, 1440, 1450, 1460, 1470, 1480, 1490, 1500, 1510, 1520,\n",
       "       1530, 1540, 1550, 1560, 1570, 1580, 1590, 1600, 1610, 1620, 1630,\n",
       "       1640, 1650, 1660, 1670, 1680, 1690, 1700, 1710, 1720, 1730, 1740,\n",
       "       1750, 1760, 1770, 1780, 1790, 1800, 1810, 1820, 1830, 1840, 1850,\n",
       "       1860, 1870, 1880, 1890, 1900, 1910, 1920, 1930, 1940, 1950, 1960,\n",
       "       1970, 1980, 1990, 2000, 2010, 2020, 2030, 2040, 2050, 2060, 2070,\n",
       "       2080, 2090, 2100, 2110, 2120, 2130, 2140, 2150, 2160, 2170, 2180,\n",
       "       2190, 2200, 2210, 2220, 2230, 2240, 2250, 2260, 2270, 2280, 2290,\n",
       "       2300, 2310, 2320, 2330, 2340, 2350, 2360, 2370, 2380, 2390, 2400])"
      ]
     },
     "execution_count": 7,
     "metadata": {},
     "output_type": "execute_result"
    }
   ],
   "source": [
    "y"
   ]
  },
  {
   "cell_type": "code",
   "execution_count": 23,
   "metadata": {},
   "outputs": [
    {
     "name": "stdout",
     "output_type": "stream",
     "text": [
      "int1 = 0.7485, int2 = 0.3735, int3 = 0.3494\n"
     ]
    },
    {
     "data": {
      "image/png": "[encoded data removed]",
      "text/plain": [
       "<matplotlib.figure.Figure at 0x7f9e4ff4b550>"
      ]
     },
     "metadata": {},
     "output_type": "display_data"
    }
   ],
   "source": [
    "# test = (1. + 0.5 * 500.0 * (    1. + np.cos(  np.pi * ( yT - 2300. ) / 300.  )   )\n",
    "#            - 0.5  * ( 1. + np.cos(  np.pi * ( yT - 2300. ) / 300.  )   )\n",
    "#        )\n",
    "spacing = 15\n",
    "y = np.arange(-spacing, 2400 + spacing, spacing)\n",
    "\n",
    "test = (0. + 0.5 * 500.0 * ( 1. + np.cos(  np.pi * ( y - y[-2] ) / 300.  )   )\n",
    "           - 0.5         * ( 1. + np.cos(  np.pi * ( y - y[-2] ) / 300.  )   )\n",
    "       )\n",
    "test = np.where(y >= 2100, test, 0.0)\n",
    "test *= 1.0e-5\n",
    "\n",
    "test1 = (0. + 0.5 * 250.0 * ( 1. + np.cos(  np.pi * ( y - y[-2] ) / 300.  )   )\n",
    "            - 0.5         * ( 1. + np.cos(  np.pi * ( y - y[-2] ) / 300.  )   )\n",
    "       )\n",
    "test1 = np.where(y >= 2100, test1, 0.0)\n",
    "test1 *= 1.0e-5\n",
    "\n",
    "test2 = (0. + 0.5 * 500.0 * ( 1. + np.cos(  np.pi * ( y - 2000 ) / 150.  )   )\n",
    "            - 0.5         * ( 1. + np.cos(  np.pi * ( y - 2000 ) / 150.  )   )\n",
    "       )\n",
    "test2 = np.where(y > 1850, test2, 0.0)\n",
    "test2 = np.where(y <= 2000, test2, 0.0)\n",
    "test2 *= 1.0e-5\n",
    "\n",
    "plt.plot(test, y, 'ro-', test1, y, 'g^-', test2, y, 'bx-')\n",
    "plt.plot([0, 0.005], [2400, 2400], 'k--')\n",
    "\n",
    "int1 = np.trapz(test[(y < 2400)], y[(y < 2400)])\n",
    "int2 = np.trapz(test1[(y < 2400)], y[(y < 2400)])\n",
    "int3 = np.trapz(test2[(y <= 2000)], y[(y <= 2000)])\n",
    "\n",
    "print(\"int1 = %.4f, int2 = %.4f, int3 = %.4f\" % (int1, int2, int3) )"
   ]
  },
  {
   "cell_type": "code",
   "execution_count": 8,
   "metadata": {},
   "outputs": [
    {
     "name": "stdout",
     "output_type": "stream",
     "text": [
      "*** SUCCESS writing example file bathy_meter_DAVE_R100.nc\n"
     ]
    },
    {
     "data": {
      "image/png": "[encoded data removed]",
      "text/plain": [
       "<matplotlib.figure.Figure at 0x7f6d5dd60710>"
      ]
     },
     "metadata": {},
     "output_type": "display_data"
    }
   ],
   "source": [
    "# Dave's configuration, based on SO channel of Dave Munday\n",
    "# 4000km long, 2000km wide, 3000m deep\n",
    "\n",
    "jpiglo = 40\n",
    "jpjglo = 20 + 2 # add to grid points on\n",
    "jpkglo = 30 + 1 # add the bottom level in\n",
    "reso_m = 100.0e3 # 100 km resolution\n",
    "e1 = reso_m * np.arange(0, jpiglo)\n",
    "e2 = reso_m * np.arange(0, jpjglo)\n",
    "Lx, Ly = e1[-1], e2[-1]\n",
    "\n",
    "# UNAGI has 3000m depth, also put two walls in\n",
    "oce_depth = 3000.0\n",
    "bathy = oce_depth * np.ones((1, jpjglo, jpiglo))\n",
    "\n",
    "l_ridge = True\n",
    "ridge_H = 1500.0\n",
    "ridge_L = 400.0e3 # half width of ridge\n",
    "\n",
    "if l_ridge:\n",
    "    ridge_x1d = np.zeros(jpiglo)\n",
    "    for ji in range(jpiglo):\n",
    "        if (e1[ji] > -ridge_L - 100.0e3 + Lx / 2.0) & (e1[ji] < -100.0e3 + Lx / 2.0):\n",
    "            ridge_x1d[ji] = 0.5 * ridge_H * (1.0 + np.cos(np.pi * (e1[ji] + Lx / 2.0 + 100.0e3) / ridge_L))\n",
    "        elif (e1[ji] > 100.0e3 + Lx / 2.0) & (e1[ji] < ridge_L + 100.0e3 + Lx / 2.0):\n",
    "            ridge_x1d[ji] = 0.5 * ridge_H * (1.0 + np.cos(np.pi * (e1[ji] + Lx / 2.0 - 100.0e3) / ridge_L))\n",
    "        elif (e1[ji] >= -100.0e3 + Lx / 2.0) & (e1[ji] <= 100.0e3 + Lx / 2.0):\n",
    "            ridge_x1d[ji] = ridge_H\n",
    "else:\n",
    "    ridge_x1d = oce_depth * np.zeros(jpiglo)\n",
    "\n",
    "bathy[0, :, :] -= ridge_x1d[np.newaxis, :]\n",
    "bathy[0,  0, :] = 0.0\n",
    "bathy[0, -1, :] = 0.0\n",
    "    \n",
    "plt.contourf(e1 / 1e3, e2 / 1e3, bathy[0, :, :])\n",
    "plt.colorbar()\n",
    "\n",
    "gen_bathy_meter(jpiglo, jpjglo, e1, e2, bathy, \"DAVE\", \"bathy_meter_DAVE_R100.nc\")"
   ]
  },
  {
   "cell_type": "code",
   "execution_count": 70,
   "metadata": {},
   "outputs": [
    {
     "name": "stdout",
     "output_type": "stream",
     "text": [
      "*** SUCCESS writing example file forcing_R100_DAVE.nc!\n"
     ]
    },
    {
     "data": {
      "image/png": "[encoded data removed]",
      "text/plain": [
       "<matplotlib.figure.Figure at 0x7f6d5d6ccac8>"
      ]
     },
     "metadata": {},
     "output_type": "display_data"
    }
   ],
   "source": [
    "# use the generated bathy_meter.nc in DOMAINcfg to generate a domaincfg file\n",
    "# the use that domaincfg file to generate the initial state and forcing files\n",
    "\n",
    "# no meridional wind here so just put everything on T points\n",
    "filename = \"domcfg_R100_DAVE.nc\"\n",
    "data = Dataset(filename)\n",
    "jpiglo = data.variables[\"jpiglo\"][:]\n",
    "jpjglo = data.variables[\"jpjglo\"][:]\n",
    "jpkglo = data.variables[\"jpkglo\"][:]\n",
    "lonV   = data.variables[\"glamv\"][0, :, :]\n",
    "latV   = data.variables[\"gphiv\"][0, :, :]\n",
    "lonT   = data.variables[\"glamt\"][0, :, :]\n",
    "latT   = data.variables[\"gphit\"][0, :, :]\n",
    "e1t    = data.variables[\"e1t\"][0, 0, 0]\n",
    "z      = data.variables[\"nav_lev\"][:]\n",
    "data.close()\n",
    "\n",
    "# have a sinusoidally varying wind but zero everything else\n",
    "Ly     = 2000.0e3\n",
    "Ly_mid = (Ly - e1t) / 2.0 # take into account the slight offset of the T/Vgrid\n",
    "Lz     = 3000\n",
    "\n",
    "tau0 = 0.2\n",
    "utau = np.zeros((1, jpjglo, jpiglo))\n",
    "utau[0, :, :] = tau0 * 0.5 * ( 1.0 + np.cos(2.0 * np.pi * (latT * 1.0e3 - Ly_mid) / Ly) )\n",
    "utau[0, 0, :] = 0.0\n",
    "utau[0, -1, :] = 0.0\n",
    "\n",
    "vtau = np.zeros((1, jpjglo, jpiglo))\n",
    "qtot = np.zeros((1, jpjglo, jpiglo))\n",
    "qsr  = np.zeros((1, jpjglo, jpiglo))\n",
    "emp  = np.zeros((1, jpjglo, jpiglo))\n",
    "\n",
    "plt.plot(utau[0, :, 0], latT, 'rx-')\n",
    "plt.grid()\n",
    "\n",
    "gen_forcing(jpiglo, jpjglo, lonT, latT, utau, vtau, qtot, qsr, emp, \"forcing_R100_DAVE.nc\")"
   ]
  },
  {
   "cell_type": "code",
   "execution_count": 72,
   "metadata": {},
   "outputs": [
    {
     "name": "stdout",
     "output_type": "stream",
     "text": [
      "*** SUCCESS writing example file state_R100_DAVE.nc!\n"
     ]
    },
    {
     "data": {
      "image/png": "[encoded data removed]",
      "text/plain": [
       "<matplotlib.figure.Figure at 0x7f6d5d23def0>"
      ]
     },
     "metadata": {},
     "output_type": "display_data"
    }
   ],
   "source": [
    "# Choose the amplitude of the temperature variations\n",
    "dtheta = 15.0\n",
    "\n",
    "# Choose the e-folding scale for the stratification.\n",
    "z0 = 1000.0\n",
    "\n",
    "# Generate the idealised temperature stratification, used as both an initial\n",
    "# condition and for the restoring temperature in the sponge regions.\n",
    "\n",
    "toce = np.zeros((1, jpkglo, jpjglo, jpiglo))\n",
    "soce = 35.0 * np.ones((1, jpkglo, jpjglo, jpiglo))\n",
    "\n",
    "sss = deepcopy(soce[:, 0, :, :])\n",
    "\n",
    "yy, zz = np.meshgrid(latT[:, 0], -z)\n",
    "yy *= 1.0e3\n",
    "\n",
    "# Linear gradient at surface with exponential decay at depth and 0oC at\n",
    "# the southern boundary (similar to Abernathey et al., 2011)\n",
    "for ji in range(jpiglo):\n",
    "    toce[0, :, :, ji] = (dtheta * (  ( yy / Ly )\n",
    "                                   * ( np.exp( zz / z0) - np.exp(-Lz / z0) ) \n",
    "                                   / ( 1.0 - np.exp( -Lz / z0 ) )\n",
    "                                   ) \n",
    "                        )\n",
    "\n",
    "# because of the grid there is some offset, add it back on\n",
    "toce -= toce[0, 0, 0, 0]\n",
    "\n",
    "# add some noise\n",
    "toce += np.random.normal(0, 0.05, (1, jpkglo, jpjglo, jpiglo))\n",
    "\n",
    "# % Make sure there is no water colder than 0.5oC.\n",
    "toce[toce < 0.25] = 0.25\n",
    "    \n",
    "# Pick out the surface temperature for the restoring condition.\n",
    "sst = deepcopy(toce[:, 0, :, :])\n",
    "\n",
    "# note the first and last y point is going to be set to masked out\n",
    "plt.contourf(yy / 1.0e3, zz, toce[0, :, :, 1], np.arange(0, 16, 1), cmap = \"RdBu_r\")\n",
    "lines = plt.contour(yy / 1.0e3, zz, toce[0, :, :, 1], np.arange(2, 16, 2), colors = \"w\")\n",
    "plt.clabel(lines, fmt = r\"$%i\\ {}^\\circ \\mathrm{C}$\", colors = 'w')\n",
    "\n",
    "gen_istate(lonT, latT, z, toce, soce, sst, sss, \"state_R100_DAVE.nc\")"
   ]
  },
  {
   "cell_type": "code",
   "execution_count": 56,
   "metadata": {},
   "outputs": [
    {
     "data": {
      "text/plain": [
       "2000"
      ]
     },
     "execution_count": 56,
     "metadata": {},
     "output_type": "execute_result"
    }
   ],
   "source": [
    "Ly"
   ]
  },
  {
   "cell_type": "code",
   "execution_count": 51,
   "metadata": {},
   "outputs": [
    {
     "data": {
      "text/plain": [
       "100000.0"
      ]
     },
     "execution_count": 51,
     "metadata": {},
     "output_type": "execute_result"
    }
   ],
   "source": [
    "e1t"
   ]
  },
  {
   "cell_type": "code",
   "execution_count": null,
   "metadata": {},
   "outputs": [],
   "source": []
  }
 ],
 "metadata": {
  "kernelspec": {
   "display_name": "Python 3",
   "language": "python",
   "name": "python3"
  },
  "language_info": {
   "codemirror_mode": {
    "name": "ipython",
    "version": 3
   },
   "file_extension": ".py",
   "mimetype": "text/x-python",
   "name": "python",
   "nbconvert_exporter": "python",
   "pygments_lexer": "ipython3",
   "version": "3.6.10"
  }
 },
 "nbformat": 4,
 "nbformat_minor": 2
}
