{
 "cells": [
  {
   "cell_type": "code",
   "execution_count": null,
   "metadata": {},
   "outputs": [],
   "source": [
    "# JM, 17 Mar 2018\n",
    "#\n",
    "# plot the barotropic streamfunction\n",
    "# calculates it from a subfunction adapted from CDFTOOLS/cdfpsi.f90\n",
    "#\n",
    "%matplotlib inline\n",
    "\n",
    "import matplotlib as mpl\n",
    "import matplotlib.pyplot as plt\n",
    "\n",
    "from pyCDFTOOLS.cdfpsi import *"
   ]
  },
  {
   "cell_type": "code",
   "execution_count": null,
   "metadata": {},
   "outputs": [],
   "source": [
    "data_dir = \"/home/mak/Downloads/GYRE9-sandbox/\"\n",
    "fileU = \"GYRE_10y_01510101_01601230_grid_U.nc\"\n",
    "fileV = \"GYRE_10y_01510101_01601230_grid_V.nc\"\n",
    "\n",
    "#data_dir = \"/home/mak/Downloads/GYRE1-sandbox/\"\n",
    "#fileU = \"GYRE_5d_01510101_01510105_grid_U.nc\"\n",
    "#fileV = \"GYRE_5d_01510101_01510105_grid_V.nc\"\n",
    "\n",
    "# for putting extra options in\n",
    "#   -- kt       = number for using a specified time entry\n",
    "#   -- lprint   = True   for printing out variable names in netcdf file\n",
    "#   -- ll_v     = True   for using V instead of the default U\n",
    "#   -- lg_vvl   = True   for using s-coord (time-varying metric)\n",
    "#   -- i[ij]ref = number for using a different normalising reference (need both to be specified)\n",
    "kwargs = {\"lprint\" : False,\n",
    "          \"ll_v\"   : False}\n",
    "\n",
    "lonT, latT, psi, opt_dic = cdfpsi(data_dir, fileU, \"uoce\", fileV, \"voce\", **kwargs)\n",
    "#lonT, latT, psi = cdfpsi(data_dir, fileU, \"vozocrtx\", fileV, \"vomecrty\", **kwargs)"
   ]
  },
  {
   "cell_type": "code",
   "execution_count": null,
   "metadata": {},
   "outputs": [],
   "source": [
    "plt.contourf(lonT, latT, psi / 1e6, 25, cmap = \"RdBu_r\")\n",
    "plt.colorbar()"
   ]
  },
  {
   "cell_type": "code",
   "execution_count": null,
   "metadata": {},
   "outputs": [],
   "source": [
    "opt_dic"
   ]
  },
  {
   "cell_type": "code",
   "execution_count": null,
   "metadata": {},
   "outputs": [],
   "source": []
  }
 ],
 "metadata": {
  "kernelspec": {
   "display_name": "Python 3",
   "language": "python",
   "name": "python3"
  },
  "language_info": {
   "codemirror_mode": {
    "name": "ipython",
    "version": 3
   },
   "file_extension": ".py",
   "mimetype": "text/x-python",
   "name": "python",
   "nbconvert_exporter": "python",
   "pygments_lexer": "ipython3",
   "version": "3.6.3"
  }
 },
 "nbformat": 4,
 "nbformat_minor": 2
}
