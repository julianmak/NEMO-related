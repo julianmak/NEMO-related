{
 "cells": [
  {
   "cell_type": "code",
   "execution_count": null,
   "metadata": {},
   "outputs": [],
   "source": [
    "# JM, 26 Mar 2018\n",
    "#\n",
    "# plot the modulus of the velocity\n",
    "#\n",
    "%matplotlib inline\n",
    "\n",
    "import matplotlib as mpl\n",
    "import matplotlib.pyplot as plt\n",
    "\n",
    "from pyCDFTOOLS.cdfmodu import *"
   ]
  },
  {
   "cell_type": "code",
   "execution_count": null,
   "metadata": {},
   "outputs": [],
   "source": [
    "# load data and do relevant processing on the native grid\n",
    "\n",
    "# NOTE: this is not doing it right, need a mesh_mask.nc file really to interpolate properly\n",
    "#       use this for now but write a subroutine for it\n",
    "\n",
    "#dir_name = \"/home/julian/Downloads/\"\n",
    "#file_name = \"GYRE_10y_06210101_06301230_grid_U.nc\"\n",
    "\n",
    "#files_netcdf4 = netCDF4.Dataset(dir_name + \"GYRE_10y_06210101_06301230_grid_U.nc\")\n",
    "#uoce = files_netcdf4.variables[\"uoce\"][0, 0, :, :]\n",
    "#latU = files_netcdf4.variables[\"nav_lat\"][:, :]\n",
    "#lonU = files_netcdf4.variables[\"nav_lon\"][:, :]\n",
    "#files_netcdf4.close()\n",
    "\n",
    "#files_netcdf4 = netCDF4.Dataset(dir_name + \"GYRE_10y_06210101_06301230_grid_V.nc\")\n",
    "#voce = files_netcdf4.variables[\"voce\"][0, 0, :, :]\n",
    "#files_netcdf4.close()\n",
    "\n",
    "#umod = np.sqrt(uoce ** 2 + voce ** 2)\n",
    "\n",
    "# load data and do relevant processing on the native grid\n",
    "\n",
    "data_dir = \"/home/julian/data/NEMO_data/GYRE09/default/\"\n",
    "fileU = \"GYRE_10y_06210101_06301230_grid_U.nc\"\n",
    "fileV = \"GYRE_10y_06210101_06301230_grid_V.nc\"\n",
    "\n",
    "# for putting extra options in\n",
    "#   -- kt       = number for using a specified time entry\n",
    "#   -- kz       = number for using a specified vertical level/layer\n",
    "#   -- lprint   = True   for printing out variable names in netcdf file\n",
    "#   -- lperio   = True   for E-W periodicity\n",
    "kwargs = {\"lprint\" : False,\n",
    "          \"lperio\" : False}\n",
    "\n",
    "lonT, latT, umod, opt_dic = cdfpsi(data_dir, fileU, \"uoce\", fileV, \"voce\", **kwargs)"
   ]
  },
  {
   "cell_type": "code",
   "execution_count": null,
   "metadata": {},
   "outputs": [],
   "source": [
    "plt.contourf(lonT, latT, umod, np.linspace(0, 1.5, 21), cmap = \"Blues_r\")\n",
    "plt.colorbar()"
   ]
  },
  {
   "cell_type": "code",
   "execution_count": null,
   "metadata": {},
   "outputs": [],
   "source": []
  },
  {
   "cell_type": "code",
   "execution_count": null,
   "metadata": {},
   "outputs": [],
   "source": []
  }
 ],
 "metadata": {
  "kernelspec": {
   "display_name": "Python 3",
   "language": "python",
   "name": "python3"
  },
  "language_info": {
   "codemirror_mode": {
    "name": "ipython",
    "version": 3
   },
   "file_extension": ".py",
   "mimetype": "text/x-python",
   "name": "python",
   "nbconvert_exporter": "python",
   "pygments_lexer": "ipython3",
   "version": "3.6.3"
  }
 },
 "nbformat": 4,
 "nbformat_minor": 2
}
