{
 "cells": [
  {
   "cell_type": "code",
   "execution_count": null,
   "metadata": {},
   "outputs": [],
   "source": [
    "# JM, 26 Mar 2018\n",
    "#\n",
    "# plot the vertical component of the vorticity\n",
    "#\n",
    "%matplotlib inline\n",
    "\n",
    "import matplotlib as mpl\n",
    "import matplotlib.pyplot as plt\n",
    "import numpy as np\n",
    "\n",
    "from pyCDFTOOLS.cdfcurl import *"
   ]
  },
  {
   "cell_type": "code",
   "execution_count": null,
   "metadata": {},
   "outputs": [],
   "source": [
    "# load data and do relevant processing on the native grid\n",
    "\n",
    "data_dir = \"/home/julian/data/NEMO_data/GYRE09/default/\"\n",
    "fileU = \"GYRE_10y_06210101_06301230_grid_U.nc\"\n",
    "fileV = \"GYRE_10y_06210101_06301230_grid_V.nc\"\n",
    "\n",
    "# for putting extra options in\n",
    "#   -- kt       = number for using a specified time entry (python indexing)\n",
    "#   -- kz       = number for using a specified vertical level/layer (python indexing)\n",
    "#   -- lprint   = True   for printing out variable names in netcdf file\n",
    "#   -- lperio   = True   for E-W periodicity\n",
    "#   -- loverf   = True   for curl / f\n",
    "kwargs = {\"kz\"     : 0,\n",
    "          \"lprint\" : False,\n",
    "          \"lperio\" : False,\n",
    "          \"loverf\" : False}\n",
    "\n",
    "lonT, latT, curlu, opt_dic = cdfcurl(data_dir, fileU, \"uoce\", fileV, \"voce\", **kwargs)"
   ]
  },
  {
   "cell_type": "code",
   "execution_count": null,
   "metadata": {},
   "outputs": [],
   "source": [
    "plt.contourf(lonT, latT, curlu, np.linspace(-2e-5, 2e-5, 31), \n",
    "             extend = \"both\", cmap = \"RdBu_r\")\n",
    "plt.colorbar()"
   ]
  },
  {
   "cell_type": "code",
   "execution_count": null,
   "metadata": {},
   "outputs": [],
   "source": [
    "# for putting extra options in\n",
    "#   -- kt       = number for using a specified time entry (python indexing)\n",
    "#   -- kz       = number for using a specified vertical level/layer (python indexing)\n",
    "#   -- lprint   = True   for printing out variable names in netcdf file\n",
    "#   -- lperio   = True   for E-W periodicity\n",
    "#   -- loverf   = True   for curl / f\n",
    "kwargs = {\"kz\"     : 0,\n",
    "          \"lprint\" : False,\n",
    "          \"lperio\" : False,\n",
    "          \"loverf\" : True}\n",
    "\n",
    "lonT, latT, curlu, opt_dic = cdfcurl(data_dir, fileU, \"uoce\", fileV, \"voce\", **kwargs)"
   ]
  },
  {
   "cell_type": "code",
   "execution_count": null,
   "metadata": {},
   "outputs": [],
   "source": [
    "plt.contourf(lonT, latT, curlu, np.linspace(-2e-1, 2e-1, 31), \n",
    "             extend = \"both\", cmap = \"RdBu_r\")\n",
    "plt.colorbar()"
   ]
  },
  {
   "cell_type": "code",
   "execution_count": null,
   "metadata": {},
   "outputs": [],
   "source": []
  }
 ],
 "metadata": {
  "kernelspec": {
   "display_name": "Python 3",
   "language": "python",
   "name": "python3"
  },
  "language_info": {
   "codemirror_mode": {
    "name": "ipython",
    "version": 3
   },
   "file_extension": ".py",
   "mimetype": "text/x-python",
   "name": "python",
   "nbconvert_exporter": "python",
   "pygments_lexer": "ipython3",
   "version": "3.6.3"
  }
 },
 "nbformat": 4,
 "nbformat_minor": 2
}
