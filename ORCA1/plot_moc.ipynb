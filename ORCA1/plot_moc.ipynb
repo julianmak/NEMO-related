{
 "cells": [
  {
   "cell_type": "code",
   "execution_count": null,
   "metadata": {},
   "outputs": [],
   "source": [
    "# load things\n",
    "%matplotlib inline\n",
    "\n",
    "import matplotlib.pyplot as plt\n",
    "\n",
    "from matplotlib_colorbar import *\n",
    "from numpy import linspace\n",
    "\n",
    "from pyCDFTOOLS.cdfmoc import *"
   ]
  },
  {
   "cell_type": "code",
   "execution_count": null,
   "metadata": {},
   "outputs": [],
   "source": [
    "# load data and do relevant processing on the native grid\n",
    "\n",
    "data_dir = \"/home/julian/data/NEMO_data/eORCA1-LIM3/default/\"\n",
    "fileV = \"eORCA1_10y_06510101_06601231_grid_V.nc\"\n",
    "\n",
    "# for putting extra options in\n",
    "#   -- kt       = number for using a specified time entry (python indexing)\n",
    "#   -- kz       = number for using a specified vertical level/layer (python indexing)\n",
    "#   -- lprint   = True   for printing out variable names in netcdf file\n",
    "kwargs = {\"lprint\" : False}\n",
    "\n",
    "zW, latV, dmoc, opt_dic = cdfmoc(data_dir, fileV, \"vo\", **kwargs)"
   ]
  },
  {
   "cell_type": "code",
   "execution_count": null,
   "metadata": {},
   "outputs": [],
   "source": [
    "figure_save = False\n",
    "\n",
    "if figure_save:\n",
    "    fig = plt.figure(figsize=(5, 3), dpi = 300)\n",
    "else:\n",
    "    fig = plt.figure(figsize=(5, 3))\n",
    "\n",
    "ax = plt.contourf(latV, zW, dmoc, linspace(-20, 20, 21), cmap = \"RdBu_r\")\n",
    "plt.xlabel(r\"Lat (${}^\\circ$)\")\n",
    "plt.ylabel(r\"z ($\\mathrm{m}$)\")\n",
    "cb = plt.colorbar()\n",
    "\n",
    "if figure_save:\n",
    "    fig.savefig(save_filename, bbox_inches = \"tight\")\n",
    "    plt.close(fig)\n",
    "    \n",
    "print(\"--- Done! ---\")"
   ]
  },
  {
   "cell_type": "code",
   "execution_count": null,
   "metadata": {},
   "outputs": [],
   "source": []
  }
 ],
 "metadata": {
  "kernelspec": {
   "display_name": "Python 3",
   "language": "python",
   "name": "python3"
  },
  "language_info": {
   "codemirror_mode": {
    "name": "ipython",
    "version": 3
   },
   "file_extension": ".py",
   "mimetype": "text/x-python",
   "name": "python",
   "nbconvert_exporter": "python",
   "pygments_lexer": "ipython3",
   "version": "3.6.3"
  }
 },
 "nbformat": 4,
 "nbformat_minor": 2
}
